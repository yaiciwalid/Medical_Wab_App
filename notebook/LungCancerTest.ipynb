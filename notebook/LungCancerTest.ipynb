{
 "cells": [
  {
   "cell_type": "code",
   "execution_count": 1,
   "metadata": {
    "collapsed": true
   },
   "outputs": [],
   "source": [
    "import sys\n",
    "sys.path.append('../')\n",
    "from app.models.ModelLungCancer import LungCancerModel"
   ]
  },
  {
   "cell_type": "code",
   "execution_count": 2,
   "metadata": {},
   "outputs": [],
   "source": [
    "%load_ext autoreload\n",
    "%autoreload 2"
   ]
  },
  {
   "cell_type": "code",
   "execution_count": 3,
   "metadata": {
    "collapsed": false
   },
   "outputs": [],
   "source": [
    "lung = LungCancerModel()\n",
    "lung.pre_process(rm_duplicates = True)"
   ]
  },
  {
   "cell_type": "code",
   "execution_count": 4,
   "metadata": {
    "collapsed": false
   },
   "outputs": [],
   "source": [
    "lung.split_train_data(test_size=0.3)\n",
    "lung.train_model()"
   ]
  },
  {
   "cell_type": "code",
   "execution_count": 5,
   "metadata": {
    "collapsed": false
   },
   "outputs": [
    {
     "data": {
      "text/plain": [
       "0.9666666666666667"
      ]
     },
     "execution_count": 5,
     "metadata": {},
     "output_type": "execute_result"
    }
   ],
   "source": [
    "lung.test_model()"
   ]
  },
  {
   "cell_type": "code",
   "execution_count": 6,
   "metadata": {},
   "outputs": [],
   "source": [
    "lung.save_model()"
   ]
  },
  {
   "attachments": {},
   "cell_type": "markdown",
   "metadata": {},
   "source": [
    "Load directly the trained Model "
   ]
  },
  {
   "cell_type": "code",
   "execution_count": 4,
   "metadata": {},
   "outputs": [
    {
     "data": {
      "text/plain": [
       "0.9666666666666667"
      ]
     },
     "execution_count": 4,
     "metadata": {},
     "output_type": "execute_result"
    }
   ],
   "source": [
    "lung = LungCancerModel(load = True)\n",
    "lung.pre_process(rm_duplicates = True, load = True)\n",
    "lung.split_train_data(test_size=0.3)\n",
    "lung.test_model()"
   ]
  },
  {
   "cell_type": "code",
   "execution_count": 5,
   "metadata": {
    "collapsed": false
   },
   "outputs": [],
   "source": [
    "person={\n",
    "        'Age':45,\n",
    "        'Gender':1,\n",
    "        'Air_Pollution':0,\n",
    "        'Alcohol_use':0,\n",
    "        'Dust_Allergy':0,\n",
    "        'OccuPational_Hazards':0,\n",
    "        'Genetic_Risk':0,\n",
    "        'chronic_Lung_Disease':0,\n",
    "        'Balanced_Diet':0,\n",
    "        'Obesity':0,\n",
    "        'Smoking':0,\n",
    "        'Passive_Smoker':0,\n",
    "        'Chest_Pain':0,\n",
    "        'Coughing_of_Blood':0,\n",
    "        'Fatigue':0,\n",
    "        'Weight_Loss':0,\n",
    "        'Shortness_of_Breath':0,\n",
    "        'Wheezing':0,\n",
    "        'Swallowing_Difficulty':0,\n",
    "        'Clubbing_of_Finger_Nails':0,\n",
    "        'Frequent_Cold': 0,\n",
    "        'Dry_Cough': 0,\n",
    "        'Snoring': 0,\n",
    "        }\n"
   ]
  },
  {
   "cell_type": "code",
   "execution_count": 6,
   "metadata": {
    "collapsed": false
   },
   "outputs": [
    {
     "data": {
      "text/plain": [
       "0"
      ]
     },
     "execution_count": 6,
     "metadata": {},
     "output_type": "execute_result"
    }
   ],
   "source": [
    "lung.predict(person)"
   ]
  },
  {
   "cell_type": "code",
   "execution_count": null,
   "metadata": {
    "collapsed": false
   },
   "outputs": [],
   "source": []
  }
 ],
 "metadata": {
  "kernelspec": {
   "display_name": "venv",
   "language": "python",
   "name": "python3"
  },
  "language_info": {
   "codemirror_mode": {
    "name": "ipython",
    "version": 3
   },
   "file_extension": ".py",
   "mimetype": "text/x-python",
   "name": "python",
   "nbconvert_exporter": "python",
   "pygments_lexer": "ipython3",
   "version": "3.8.10 (tags/v3.8.10:3d8993a, May  3 2021, 11:48:03) [MSC v.1928 64 bit (AMD64)]"
  },
  "vscode": {
   "interpreter": {
    "hash": "4d259bede8a211e7cc3a90bb6c9b6beaadedffc41b0ae7e5242a6af0e723ac54"
   }
  }
 },
 "nbformat": 4,
 "nbformat_minor": 0
}
