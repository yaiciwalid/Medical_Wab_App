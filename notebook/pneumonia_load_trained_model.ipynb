{
 "cells": [
  {
   "cell_type": "code",
   "execution_count": 10,
   "metadata": {},
   "outputs": [],
   "source": [
    "import sys\n",
    "sys.path.append('../')\n",
    "from app.preprocessing.pneumonia import Pneumonia\n",
    "from app.models.Modelpneumonia.ModelPneumonia import PneumoniaModel\n",
    "from PIL import Image"
   ]
  },
  {
   "cell_type": "code",
   "execution_count": 11,
   "metadata": {},
   "outputs": [
    {
     "name": "stdout",
     "output_type": "stream",
     "text": [
      "The autoreload extension is already loaded. To reload it, use:\n",
      "  %reload_ext autoreload\n"
     ]
    }
   ],
   "source": [
    "%load_ext autoreload\n",
    "%autoreload 2"
   ]
  },
  {
   "cell_type": "code",
   "execution_count": 12,
   "metadata": {},
   "outputs": [
    {
     "name": "stdout",
     "output_type": "stream",
     "text": [
      "0\n",
      "1\n"
     ]
    }
   ],
   "source": [
    "model = PneumoniaModel(load = True)\n",
    "pth = r\"C:\\Users\\Ryadh\\Desktop\\paris\\DE_project_M2\\data\\images\\chest_xray\\train\\NORMAL\\IM-0115-0001.jpeg\"\n",
    "pth2 = r\"C:\\Users\\Ryadh\\Desktop\\paris\\DE_project_M2\\data\\images\\chest_xray\\train\\PNEUMONIA\\person1_bacteria_2.jpeg\"\n",
    " \n",
    "print(model.predict(pth))\n",
    "print(model.predict(pth2))"
   ]
  }
 ],
 "metadata": {
  "kernelspec": {
   "display_name": "venv",
   "language": "python",
   "name": "python3"
  },
  "language_info": {
   "codemirror_mode": {
    "name": "ipython",
    "version": 3
   },
   "file_extension": ".py",
   "mimetype": "text/x-python",
   "name": "python",
   "nbconvert_exporter": "python",
   "pygments_lexer": "ipython3",
   "version": "3.8.10 (tags/v3.8.10:3d8993a, May  3 2021, 11:48:03) [MSC v.1928 64 bit (AMD64)]"
  },
  "orig_nbformat": 4,
  "vscode": {
   "interpreter": {
    "hash": "4d259bede8a211e7cc3a90bb6c9b6beaadedffc41b0ae7e5242a6af0e723ac54"
   }
  }
 },
 "nbformat": 4,
 "nbformat_minor": 2
}
