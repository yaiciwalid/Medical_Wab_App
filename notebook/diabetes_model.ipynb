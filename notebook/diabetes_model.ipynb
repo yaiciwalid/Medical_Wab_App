{
 "cells": [
  {
   "cell_type": "code",
   "execution_count": 1,
   "metadata": {},
   "outputs": [],
   "source": [
    "import sys \n",
    "sys.path.append('../')\n",
    "from app.models.Modeldiabetes import DiabeteModel\n",
    "import numpy as np\n",
    "from xgboost import XGBClassifier\n",
    "from sklearn.metrics import accuracy_score\n",
    "from sklearn.model_selection import StratifiedShuffleSplit \n",
    "import os "
   ]
  },
  {
   "cell_type": "code",
   "execution_count": 2,
   "metadata": {},
   "outputs": [],
   "source": [
    "%load_ext autoreload\n",
    "%autoreload 2"
   ]
  },
  {
   "attachments": {},
   "cell_type": "markdown",
   "metadata": {},
   "source": [
    "Instanciate model and preprocessing "
   ]
  },
  {
   "cell_type": "code",
   "execution_count": 3,
   "metadata": {},
   "outputs": [
    {
     "name": "stderr",
     "output_type": "stream",
     "text": [
      "c:\\Users\\Ryadh\\Desktop\\paris\\projet_clean\\DE_project_M2\\notebook\\..\\app\\preprocessing\\diabetes.py:87: ParserWarning: Both a converter and dtype were specified for column chol_hdl_ratio - only the converter will be used.\n",
      "  pd.read_csv(\n",
      "c:\\Users\\Ryadh\\Desktop\\paris\\projet_clean\\DE_project_M2\\notebook\\..\\app\\preprocessing\\diabetes.py:87: ParserWarning: Both a converter and dtype were specified for column bmi - only the converter will be used.\n",
      "  pd.read_csv(\n",
      "c:\\Users\\Ryadh\\Desktop\\paris\\projet_clean\\DE_project_M2\\notebook\\..\\app\\preprocessing\\diabetes.py:87: ParserWarning: Both a converter and dtype were specified for column waist_hip_ratio - only the converter will be used.\n",
      "  pd.read_csv(\n"
     ]
    }
   ],
   "source": [
    "model = DiabeteModel()\n",
    "model.pre_process()\n",
    "model.split_train_data(0.4)\n",
    "\n"
   ]
  },
  {
   "attachments": {},
   "cell_type": "markdown",
   "metadata": {},
   "source": [
    "Train model"
   ]
  },
  {
   "cell_type": "code",
   "execution_count": 181,
   "metadata": {},
   "outputs": [
    {
     "name": "stdout",
     "output_type": "stream",
     "text": [
      "Epoch 1/50\n",
      "8/8 [==============================] - 0s 1ms/step - loss: 0.1370 - accuracy: 0.9530\n",
      "Epoch 2/50\n",
      "8/8 [==============================] - 0s 1ms/step - loss: 0.1331 - accuracy: 0.9615\n",
      "Epoch 3/50\n",
      "8/8 [==============================] - 0s 2ms/step - loss: 0.1538 - accuracy: 0.9444\n",
      "Epoch 4/50\n",
      "8/8 [==============================] - 0s 2ms/step - loss: 0.1689 - accuracy: 0.9402\n",
      "Epoch 5/50\n",
      "8/8 [==============================] - 0s 1ms/step - loss: 0.1820 - accuracy: 0.9316\n",
      "Epoch 6/50\n",
      "8/8 [==============================] - 0s 1000us/step - loss: 0.1540 - accuracy: 0.9615\n",
      "Epoch 7/50\n",
      "8/8 [==============================] - 0s 1ms/step - loss: 0.1471 - accuracy: 0.9530\n",
      "Epoch 8/50\n",
      "8/8 [==============================] - 0s 1ms/step - loss: 0.1569 - accuracy: 0.9444\n",
      "Epoch 9/50\n",
      "8/8 [==============================] - 0s 1ms/step - loss: 0.1388 - accuracy: 0.9402\n",
      "Epoch 10/50\n",
      "8/8 [==============================] - 0s 935us/step - loss: 0.1737 - accuracy: 0.9444\n",
      "Epoch 11/50\n",
      "8/8 [==============================] - 0s 1ms/step - loss: 0.1372 - accuracy: 0.9530\n",
      "Epoch 12/50\n",
      "8/8 [==============================] - 0s 1ms/step - loss: 0.1091 - accuracy: 0.9658\n",
      "Epoch 13/50\n",
      "8/8 [==============================] - 0s 1ms/step - loss: 0.1311 - accuracy: 0.9615\n",
      "Epoch 14/50\n",
      "8/8 [==============================] - 0s 1ms/step - loss: 0.1141 - accuracy: 0.9530\n",
      "Epoch 15/50\n",
      "8/8 [==============================] - 0s 1ms/step - loss: 0.1169 - accuracy: 0.9487\n",
      "Epoch 16/50\n",
      "8/8 [==============================] - 0s 1ms/step - loss: 0.1194 - accuracy: 0.9615\n",
      "Epoch 17/50\n",
      "8/8 [==============================] - 0s 931us/step - loss: 0.1304 - accuracy: 0.9487\n",
      "Epoch 18/50\n",
      "8/8 [==============================] - 0s 1ms/step - loss: 0.1427 - accuracy: 0.9487\n",
      "Epoch 19/50\n",
      "8/8 [==============================] - 0s 1ms/step - loss: 0.2306 - accuracy: 0.9359\n",
      "Epoch 20/50\n",
      "8/8 [==============================] - 0s 1ms/step - loss: 0.1642 - accuracy: 0.9444\n",
      "Epoch 21/50\n",
      "8/8 [==============================] - 0s 1ms/step - loss: 0.1728 - accuracy: 0.9316\n",
      "Epoch 22/50\n",
      "8/8 [==============================] - 0s 1ms/step - loss: 0.1619 - accuracy: 0.9444\n",
      "Epoch 23/50\n",
      "8/8 [==============================] - 0s 1ms/step - loss: 0.1047 - accuracy: 0.9615\n",
      "Epoch 24/50\n",
      "8/8 [==============================] - 0s 1ms/step - loss: 0.0999 - accuracy: 0.9658\n",
      "Epoch 25/50\n",
      "8/8 [==============================] - 0s 1ms/step - loss: 0.0961 - accuracy: 0.9573\n",
      "Epoch 26/50\n",
      "8/8 [==============================] - 0s 1ms/step - loss: 0.0931 - accuracy: 0.9573\n",
      "Epoch 27/50\n",
      "8/8 [==============================] - 0s 1ms/step - loss: 0.1247 - accuracy: 0.9615\n",
      "Epoch 28/50\n",
      "8/8 [==============================] - 0s 1ms/step - loss: 0.0936 - accuracy: 0.9786\n",
      "Epoch 29/50\n",
      "8/8 [==============================] - 0s 1ms/step - loss: 0.1286 - accuracy: 0.9615\n",
      "Epoch 30/50\n",
      "8/8 [==============================] - 0s 1ms/step - loss: 0.1176 - accuracy: 0.9402\n",
      "Epoch 31/50\n",
      "8/8 [==============================] - 0s 2ms/step - loss: 0.1020 - accuracy: 0.9658\n",
      "Epoch 32/50\n",
      "8/8 [==============================] - 0s 1ms/step - loss: 0.0884 - accuracy: 0.9744\n",
      "Epoch 33/50\n",
      "8/8 [==============================] - 0s 1ms/step - loss: 0.1397 - accuracy: 0.9530\n",
      "Epoch 34/50\n",
      "8/8 [==============================] - 0s 1ms/step - loss: 0.1244 - accuracy: 0.9615\n",
      "Epoch 35/50\n",
      "8/8 [==============================] - 0s 1ms/step - loss: 0.1097 - accuracy: 0.9615\n",
      "Epoch 36/50\n",
      "8/8 [==============================] - 0s 3ms/step - loss: 0.1074 - accuracy: 0.9530\n",
      "Epoch 37/50\n",
      "8/8 [==============================] - 0s 2ms/step - loss: 0.1081 - accuracy: 0.9658\n",
      "Epoch 38/50\n",
      "8/8 [==============================] - 0s 2ms/step - loss: 0.1022 - accuracy: 0.9615\n",
      "Epoch 39/50\n",
      "8/8 [==============================] - 0s 1ms/step - loss: 0.0859 - accuracy: 0.9701\n",
      "Epoch 40/50\n",
      "8/8 [==============================] - 0s 1ms/step - loss: 0.0870 - accuracy: 0.9615\n",
      "Epoch 41/50\n",
      "8/8 [==============================] - 0s 1ms/step - loss: 0.0762 - accuracy: 0.9701\n",
      "Epoch 42/50\n",
      "8/8 [==============================] - 0s 2ms/step - loss: 0.0733 - accuracy: 0.9701\n",
      "Epoch 43/50\n",
      "8/8 [==============================] - 0s 1ms/step - loss: 0.0969 - accuracy: 0.9829\n",
      "Epoch 44/50\n",
      "8/8 [==============================] - 0s 1ms/step - loss: 0.1219 - accuracy: 0.9573\n",
      "Epoch 45/50\n",
      "8/8 [==============================] - 0s 1ms/step - loss: 0.1036 - accuracy: 0.9658\n",
      "Epoch 46/50\n",
      "8/8 [==============================] - 0s 1ms/step - loss: 0.1313 - accuracy: 0.9402\n",
      "Epoch 47/50\n",
      "8/8 [==============================] - 0s 1ms/step - loss: 0.0889 - accuracy: 0.9658\n",
      "Epoch 48/50\n",
      "8/8 [==============================] - 0s 1ms/step - loss: 0.0669 - accuracy: 0.9829\n",
      "Epoch 49/50\n",
      "8/8 [==============================] - 0s 1ms/step - loss: 0.0817 - accuracy: 0.9744\n",
      "Epoch 50/50\n",
      "8/8 [==============================] - 0s 1ms/step - loss: 0.0687 - accuracy: 0.9744\n"
     ]
    }
   ],
   "source": [
    "model.train_model(50)"
   ]
  },
  {
   "cell_type": "code",
   "execution_count": 4,
   "metadata": {},
   "outputs": [],
   "source": [
    "model.save_model()"
   ]
  },
  {
   "attachments": {},
   "cell_type": "markdown",
   "metadata": {},
   "source": [
    "Load directly the trained Model "
   ]
  },
  {
   "cell_type": "code",
   "execution_count": 5,
   "metadata": {},
   "outputs": [
    {
     "name": "stderr",
     "output_type": "stream",
     "text": [
      "c:\\Users\\Ryadh\\Desktop\\paris\\projet_clean\\DE_project_M2\\notebook\\..\\app\\preprocessing\\diabetes.py:87: ParserWarning: Both a converter and dtype were specified for column chol_hdl_ratio - only the converter will be used.\n",
      "  pd.read_csv(\n",
      "c:\\Users\\Ryadh\\Desktop\\paris\\projet_clean\\DE_project_M2\\notebook\\..\\app\\preprocessing\\diabetes.py:87: ParserWarning: Both a converter and dtype were specified for column bmi - only the converter will be used.\n",
      "  pd.read_csv(\n",
      "c:\\Users\\Ryadh\\Desktop\\paris\\projet_clean\\DE_project_M2\\notebook\\..\\app\\preprocessing\\diabetes.py:87: ParserWarning: Both a converter and dtype were specified for column waist_hip_ratio - only the converter will be used.\n",
      "  pd.read_csv(\n"
     ]
    }
   ],
   "source": [
    "model = DiabeteModel(load= True)\n",
    "model.pre_process(load = True)\n",
    "model.split_train_data(0.4)"
   ]
  },
  {
   "attachments": {},
   "cell_type": "markdown",
   "metadata": {},
   "source": [
    "Test model with the test set "
   ]
  },
  {
   "cell_type": "code",
   "execution_count": 6,
   "metadata": {},
   "outputs": [
    {
     "name": "stdout",
     "output_type": "stream",
     "text": [
      "WARNING:tensorflow:Model was constructed with shape (None, None, 14) for input KerasTensor(type_spec=TensorSpec(shape=(None, None, 14), dtype=tf.float32, name='input_1'), name='input_1', description=\"created by layer 'input_1'\"), but it was called on an input with incompatible shape (None, 14).\n",
      "5/5 [==============================] - 0s 1ms/step\n"
     ]
    },
    {
     "data": {
      "text/plain": [
       "0.8141025641025641"
      ]
     },
     "execution_count": 6,
     "metadata": {},
     "output_type": "execute_result"
    }
   ],
   "source": [
    "model.test_model()"
   ]
  },
  {
   "attachments": {},
   "cell_type": "markdown",
   "metadata": {},
   "source": [
    "Test model with new data"
   ]
  },
  {
   "cell_type": "code",
   "execution_count": 193,
   "metadata": {},
   "outputs": [],
   "source": [
    "new_person = {\n",
    "        'cholesterol_level': 164,\n",
    "        'glucose_level':93,\n",
    "        'hdl_cholesterol': 59,\n",
    "        'cholesterol_hdl_ratio': 2.4,\n",
    "        'age': 96,\n",
    "        'gender': \"female\",\n",
    "        'height': 62,\n",
    "        'weight': 217,\n",
    "        'body_mass_idx': 0,\n",
    "        'systolic_blood_pressure': 158,\n",
    "        'diastolic_blood_pressure': 81,\n",
    "        'waist_size': 50, 'hip_size': 50,\n",
    "        'waist_hip_size_ratio': 1,\n",
    "                                }"
   ]
  },
  {
   "cell_type": "code",
   "execution_count": 194,
   "metadata": {},
   "outputs": [
    {
     "name": "stdout",
     "output_type": "stream",
     "text": [
      "1/1 [==============================] - 0s 15ms/step\n",
      "0\n"
     ]
    }
   ],
   "source": [
    "predc = model.predict(person = new_person)\n",
    "print(predc)"
   ]
  },
  {
   "cell_type": "code",
   "execution_count": null,
   "metadata": {},
   "outputs": [],
   "source": []
  },
  {
   "cell_type": "code",
   "execution_count": null,
   "metadata": {},
   "outputs": [],
   "source": [
    "\"\"\"\n",
    "model_xg = XGBClassifier(use_label_encoder=False, eval_metric='mlogloss')\n",
    "model_xg.fit(x_train, y_train)\n",
    "y_pred = model_xg.predict(x_test)\n",
    "accuracy = accuracy_score(y_test, y_pred)\n",
    "accuracy\n",
    "\"\"\""
   ]
  }
 ],
 "metadata": {
  "kernelspec": {
   "display_name": "venv",
   "language": "python",
   "name": "python3"
  },
  "language_info": {
   "codemirror_mode": {
    "name": "ipython",
    "version": 3
   },
   "file_extension": ".py",
   "mimetype": "text/x-python",
   "name": "python",
   "nbconvert_exporter": "python",
   "pygments_lexer": "ipython3",
   "version": "3.8.10 (tags/v3.8.10:3d8993a, May  3 2021, 11:48:03) [MSC v.1928 64 bit (AMD64)]"
  },
  "orig_nbformat": 4,
  "vscode": {
   "interpreter": {
    "hash": "4d259bede8a211e7cc3a90bb6c9b6beaadedffc41b0ae7e5242a6af0e723ac54"
   }
  }
 },
 "nbformat": 4,
 "nbformat_minor": 2
}
